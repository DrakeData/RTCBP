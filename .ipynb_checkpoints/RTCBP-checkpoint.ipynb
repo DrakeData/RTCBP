{
 "cells": [
  {
   "cell_type": "markdown",
   "metadata": {},
   "source": [
    "# Are the Chicago Bears Playing (RTCBP)?"
   ]
  },
  {
   "cell_type": "code",
   "execution_count": 1,
   "metadata": {},
   "outputs": [],
   "source": [
    "#import config\n",
    "import tweepy\n",
    "import requests\n",
    "from bs4 import BeautifulSoup\n",
    "import datetime\n",
    "from datetime import datetime, timedelta, date\n",
    "from dateutil.parser import parse\n",
    "import pandas as pd\n",
    "import random\n",
    "import os\n",
    "import mlbgame\n",
    "import lxml.etree as etree\n",
    "from time import sleep\n",
    "from googlesearch import search"
   ]
  },
  {
   "cell_type": "code",
   "execution_count": 2,
   "metadata": {},
   "outputs": [
    {
     "name": "stdout",
     "output_type": "stream",
     "text": [
      "Current year: 2021\n",
      "Current month: 9\n",
      "Current day: 15\n"
     ]
    }
   ],
   "source": [
    "todays_date = date.today()\n",
    "print(\"Current year:\", todays_date.year)\n",
    "print(\"Current month:\", todays_date.month)\n",
    "print(\"Current day:\", todays_date.day)"
   ]
  },
  {
   "cell_type": "markdown",
   "metadata": {},
   "source": [
    "# Find out f the bears are playing today\n",
    "Sportsipy- [NFL documentation](https://sportsreference.readthedocs.io/en/stable/nfl.html)"
   ]
  },
  {
   "cell_type": "markdown",
   "metadata": {},
   "source": [
    "## Find teams"
   ]
  },
  {
   "cell_type": "code",
   "execution_count": 3,
   "metadata": {},
   "outputs": [
    {
     "data": {
      "text/plain": [
       "San Francisco 49ers (SFO)\n",
       "New Orleans Saints (NOR)\n",
       "Arizona Cardinals (CRD)\n",
       "Houston Texans (HTX)\n",
       "Los Angeles Rams (RAM)\n",
       "Las Vegas Raiders (RAI)\n",
       "Kansas City Chiefs (KAN)\n",
       "Detroit Lions (DET)\n",
       "Philadelphia Eagles (PHI)\n",
       "Tampa Bay Buccaneers (TAM)\n",
       "Dallas Cowboys (DAL)\n",
       "Cleveland Browns (CLE)\n",
       "Seattle Seahawks (SEA)\n",
       "Denver Broncos (DEN)\n",
       "Baltimore Ravens (RAV)\n",
       "Cincinnati Bengals (CIN)\n",
       "Minnesota Vikings (MIN)\n",
       "Pittsburgh Steelers (PIT)\n",
       "Jacksonville Jaguars (JAX)\n",
       "Los Angeles Chargers (SDG)\n",
       "Carolina Panthers (CAR)\n",
       "Miami Dolphins (MIA)\n",
       "Washington Football Team (WAS)\n",
       "New England Patriots (NWE)\n",
       "Indianapolis Colts (CLT)\n",
       "Buffalo Bills (BUF)\n",
       "New York Jets (NYJ)\n",
       "Chicago Bears (CHI)\n",
       "Tennessee Titans (OTI)\n",
       "New York Giants (NYG)\n",
       "Atlanta Falcons (ATL)\n",
       "Green Bay Packers (GNB)"
      ]
     },
     "execution_count": 3,
     "metadata": {},
     "output_type": "execute_result"
    }
   ],
   "source": [
    "from sportsipy.nfl.teams import Teams\n",
    "\n",
    "teams = Teams(todays_date.year)\n",
    "teams"
   ]
  },
  {
   "cell_type": "markdown",
   "metadata": {},
   "source": [
    "## Pull the Chicago Bears (CHI) schedule"
   ]
  },
  {
   "cell_type": "code",
   "execution_count": 22,
   "metadata": {},
   "outputs": [],
   "source": [
    "from sportsipy.nfl.schedule import Schedule\n",
    "\n",
    "date_times_ls = []\n",
    "date_times_clean_ls = []\n",
    "dates_ls = []\n",
    "days_ls = []\n",
    "\n",
    "\n",
    "purdue_schedule = Schedule('CHI')\n",
    "for game in purdue_schedule:\n",
    "    date_times_ls.append(datetime.strptime(str(game.datetime), '%Y-%m-%d %H:%M:%S').strftime('%Y-%m-%d %H:%M:%S'))\n",
    "    date_times_clean_ls.append(datetime.strptime(str(game.datetime), '%Y-%m-%d %H:%M:%S').strftime('%m/%d/%y'))\n",
    "    dates_ls.append(game.date)\n",
    "    days_ls.append(game.day)"
   ]
  },
  {
   "cell_type": "code",
   "execution_count": 23,
   "metadata": {},
   "outputs": [
    {
     "name": "stdout",
     "output_type": "stream",
     "text": [
      "['2021-09-12 00:00:00', '2021-09-19 00:00:00', '2021-09-26 00:00:00', '2021-10-03 00:00:00', '2021-10-10 00:00:00', '2021-10-17 00:00:00', '2021-10-24 00:00:00', '2021-10-31 00:00:00', '2021-11-08 00:00:00', '2021-11-21 00:00:00', '2021-11-25 00:00:00', '2021-12-05 00:00:00', '2021-12-12 00:00:00', '2021-12-20 00:00:00', '2021-12-26 00:00:00', '2022-01-02 00:00:00', '2022-01-09 00:00:00']\n",
      "['09/12/21', '09/19/21', '09/26/21', '10/03/21', '10/10/21', '10/17/21', '10/24/21', '10/31/21', '11/08/21', '11/21/21', '11/25/21', '12/05/21', '12/12/21', '12/20/21', '12/26/21', '01/02/22', '01/09/22']\n",
      "['September 12', 'September 19', 'September 26', 'October 3', 'October 10', 'October 17', 'October 24', 'October 31', 'November 8', 'November 21', 'November 25', 'December 5', 'December 12', 'December 20', 'December 26', 'January 2', 'January 9']\n",
      "['Sun', 'Sun', 'Sun', 'Sun', 'Sun', 'Sun', 'Sun', 'Sun', 'Mon', 'Sun', 'Thu', 'Sun', 'Sun', 'Mon', 'Sun', 'Sun', 'Sun']\n"
     ]
    }
   ],
   "source": [
    "print(date_times_ls)\n",
    "print(date_times_clean_ls)\n",
    "print(dates_ls)\n",
    "print(days_ls)"
   ]
  },
  {
   "cell_type": "code",
   "execution_count": 24,
   "metadata": {},
   "outputs": [
    {
     "data": {
      "text/html": [
       "<div>\n",
       "<style scoped>\n",
       "    .dataframe tbody tr th:only-of-type {\n",
       "        vertical-align: middle;\n",
       "    }\n",
       "\n",
       "    .dataframe tbody tr th {\n",
       "        vertical-align: top;\n",
       "    }\n",
       "\n",
       "    .dataframe thead th {\n",
       "        text-align: right;\n",
       "    }\n",
       "</style>\n",
       "<table border=\"1\" class=\"dataframe\">\n",
       "  <thead>\n",
       "    <tr style=\"text-align: right;\">\n",
       "      <th></th>\n",
       "      <th>date_time</th>\n",
       "      <th>date_time_clean</th>\n",
       "      <th>date</th>\n",
       "      <th>day</th>\n",
       "    </tr>\n",
       "  </thead>\n",
       "  <tbody>\n",
       "    <tr>\n",
       "      <th>0</th>\n",
       "      <td>2021-09-12 00:00:00</td>\n",
       "      <td>09/12/21</td>\n",
       "      <td>September 12</td>\n",
       "      <td>Sun</td>\n",
       "    </tr>\n",
       "    <tr>\n",
       "      <th>1</th>\n",
       "      <td>2021-09-19 00:00:00</td>\n",
       "      <td>09/19/21</td>\n",
       "      <td>September 19</td>\n",
       "      <td>Sun</td>\n",
       "    </tr>\n",
       "    <tr>\n",
       "      <th>2</th>\n",
       "      <td>2021-09-26 00:00:00</td>\n",
       "      <td>09/26/21</td>\n",
       "      <td>September 26</td>\n",
       "      <td>Sun</td>\n",
       "    </tr>\n",
       "    <tr>\n",
       "      <th>3</th>\n",
       "      <td>2021-10-03 00:00:00</td>\n",
       "      <td>10/03/21</td>\n",
       "      <td>October 3</td>\n",
       "      <td>Sun</td>\n",
       "    </tr>\n",
       "    <tr>\n",
       "      <th>4</th>\n",
       "      <td>2021-10-10 00:00:00</td>\n",
       "      <td>10/10/21</td>\n",
       "      <td>October 10</td>\n",
       "      <td>Sun</td>\n",
       "    </tr>\n",
       "    <tr>\n",
       "      <th>5</th>\n",
       "      <td>2021-10-17 00:00:00</td>\n",
       "      <td>10/17/21</td>\n",
       "      <td>October 17</td>\n",
       "      <td>Sun</td>\n",
       "    </tr>\n",
       "    <tr>\n",
       "      <th>6</th>\n",
       "      <td>2021-10-24 00:00:00</td>\n",
       "      <td>10/24/21</td>\n",
       "      <td>October 24</td>\n",
       "      <td>Sun</td>\n",
       "    </tr>\n",
       "    <tr>\n",
       "      <th>7</th>\n",
       "      <td>2021-10-31 00:00:00</td>\n",
       "      <td>10/31/21</td>\n",
       "      <td>October 31</td>\n",
       "      <td>Sun</td>\n",
       "    </tr>\n",
       "    <tr>\n",
       "      <th>8</th>\n",
       "      <td>2021-11-08 00:00:00</td>\n",
       "      <td>11/08/21</td>\n",
       "      <td>November 8</td>\n",
       "      <td>Mon</td>\n",
       "    </tr>\n",
       "    <tr>\n",
       "      <th>9</th>\n",
       "      <td>2021-11-21 00:00:00</td>\n",
       "      <td>11/21/21</td>\n",
       "      <td>November 21</td>\n",
       "      <td>Sun</td>\n",
       "    </tr>\n",
       "    <tr>\n",
       "      <th>10</th>\n",
       "      <td>2021-11-25 00:00:00</td>\n",
       "      <td>11/25/21</td>\n",
       "      <td>November 25</td>\n",
       "      <td>Thu</td>\n",
       "    </tr>\n",
       "    <tr>\n",
       "      <th>11</th>\n",
       "      <td>2021-12-05 00:00:00</td>\n",
       "      <td>12/05/21</td>\n",
       "      <td>December 5</td>\n",
       "      <td>Sun</td>\n",
       "    </tr>\n",
       "    <tr>\n",
       "      <th>12</th>\n",
       "      <td>2021-12-12 00:00:00</td>\n",
       "      <td>12/12/21</td>\n",
       "      <td>December 12</td>\n",
       "      <td>Sun</td>\n",
       "    </tr>\n",
       "    <tr>\n",
       "      <th>13</th>\n",
       "      <td>2021-12-20 00:00:00</td>\n",
       "      <td>12/20/21</td>\n",
       "      <td>December 20</td>\n",
       "      <td>Mon</td>\n",
       "    </tr>\n",
       "    <tr>\n",
       "      <th>14</th>\n",
       "      <td>2021-12-26 00:00:00</td>\n",
       "      <td>12/26/21</td>\n",
       "      <td>December 26</td>\n",
       "      <td>Sun</td>\n",
       "    </tr>\n",
       "    <tr>\n",
       "      <th>15</th>\n",
       "      <td>2022-01-02 00:00:00</td>\n",
       "      <td>01/02/22</td>\n",
       "      <td>January 2</td>\n",
       "      <td>Sun</td>\n",
       "    </tr>\n",
       "    <tr>\n",
       "      <th>16</th>\n",
       "      <td>2022-01-09 00:00:00</td>\n",
       "      <td>01/09/22</td>\n",
       "      <td>January 9</td>\n",
       "      <td>Sun</td>\n",
       "    </tr>\n",
       "  </tbody>\n",
       "</table>\n",
       "</div>"
      ],
      "text/plain": [
       "              date_time date_time_clean          date  day\n",
       "0   2021-09-12 00:00:00        09/12/21  September 12  Sun\n",
       "1   2021-09-19 00:00:00        09/19/21  September 19  Sun\n",
       "2   2021-09-26 00:00:00        09/26/21  September 26  Sun\n",
       "3   2021-10-03 00:00:00        10/03/21     October 3  Sun\n",
       "4   2021-10-10 00:00:00        10/10/21    October 10  Sun\n",
       "5   2021-10-17 00:00:00        10/17/21    October 17  Sun\n",
       "6   2021-10-24 00:00:00        10/24/21    October 24  Sun\n",
       "7   2021-10-31 00:00:00        10/31/21    October 31  Sun\n",
       "8   2021-11-08 00:00:00        11/08/21    November 8  Mon\n",
       "9   2021-11-21 00:00:00        11/21/21   November 21  Sun\n",
       "10  2021-11-25 00:00:00        11/25/21   November 25  Thu\n",
       "11  2021-12-05 00:00:00        12/05/21    December 5  Sun\n",
       "12  2021-12-12 00:00:00        12/12/21   December 12  Sun\n",
       "13  2021-12-20 00:00:00        12/20/21   December 20  Mon\n",
       "14  2021-12-26 00:00:00        12/26/21   December 26  Sun\n",
       "15  2022-01-02 00:00:00        01/02/22     January 2  Sun\n",
       "16  2022-01-09 00:00:00        01/09/22     January 9  Sun"
      ]
     },
     "execution_count": 24,
     "metadata": {},
     "output_type": "execute_result"
    }
   ],
   "source": [
    "df = pd.DataFrame(list(zip(date_times_ls, date_times_clean_ls, dates_ls, days_ls)),\n",
    "               columns =['date_time', 'date_time_clean', 'date', 'day'])\n",
    "df"
   ]
  },
  {
   "cell_type": "markdown",
   "metadata": {},
   "source": [
    "## Step 1: Get Game ID"
   ]
  },
  {
   "cell_type": "code",
   "execution_count": 25,
   "metadata": {},
   "outputs": [],
   "source": [
    "url = []\n",
    "query = f\"espn bears game id {todays_date.month}/{todays_date.day}/{todays_date.year}\"\n",
    " \n",
    "for j in search(query, tld=\"co.in\", num=10, stop=10, pause=2):\n",
    "    url.append(j)\n",
    "    game_id = url[0].rsplit('/', 1)[-1]"
   ]
  },
  {
   "cell_type": "code",
   "execution_count": 27,
   "metadata": {},
   "outputs": [
    {
     "data": {
      "text/plain": [
       "['https://www.espn.com/nfl/team/schedule/_/name/chi',\n",
       " 'https://www.espn.com/nfl/boxscore/_/gameId/401326323',\n",
       " 'https://www.espn.com/nfl/game/_/gameId/401326622',\n",
       " 'https://www.espn.com/nfl/game/_/gameId/401326617',\n",
       " 'https://www.espn.com/nfl/game/_/gameId/401326365',\n",
       " 'https://www.espn.com/nfl/recap/_/gameId/401326622',\n",
       " 'https://www.espn.com/nfl/game/_/gameId/401326405',\n",
       " 'https://www.espn.com/nfl/game/_/gameId/401326129',\n",
       " 'https://www.espn.com/nfl/game/_/gameId/401220395',\n",
       " 'https://www.espn.com/nfl/boxscore/_/gameId/401326622']"
      ]
     },
     "execution_count": 27,
     "metadata": {},
     "output_type": "execute_result"
    }
   ],
   "source": [
    "url"
   ]
  },
  {
   "cell_type": "markdown",
   "metadata": {},
   "source": [
    "## Step 2: Get Scoring Plays"
   ]
  },
  {
   "cell_type": "code",
   "execution_count": null,
   "metadata": {},
   "outputs": [],
   "source": [
    "main_url = f'https://www.espn.com/nfl/game/_/gameId/{game_id}'\n",
    "page = uReq(main_url)\n",
    "\n",
    "# filter html\n",
    "soup = BeautifulSoup(page.read(), 'html.parser')\n",
    "soup\n",
    "\n",
    "game_status = soup.find('span', class_='game-time time status-detail')\n",
    "game_status\n",
    "\n",
    "\n",
    "\n",
    "\n",
    "# # get team names\n",
    "# team_data = soup.find_all('article', class_= 'sub-module scoring-summary')\n",
    "# team_data2 = team_data[0].find_all('th', class_='right')\n",
    "# team1 = team_data2[0].text\n",
    "# team2 = team_data2[1].text\n",
    "\n",
    "# # get play info\n",
    "# data = soup.find_all('tbody', class_= 'plays')\n",
    "# data2 = data[0].find_all('td')\n",
    "\n",
    "# if data2[0].text == 'No scoring plays available':\n",
    "#     print(\"No scoring play yet\")\n",
    "#     sleep(120)\n",
    "# else:\n",
    "#     text_info = data2[3].text\n",
    "\n",
    "#     # get score info\n",
    "#     score = data2[4].text\n",
    "#     score2 = data2[5].text\n",
    "\n",
    "#     score_paly_txt = f\"{text_info} Score is now {team1} {score} - {team2} {score2}\"\n",
    "\n",
    "#     if score_paly_txt in scoring_play_ls:\n",
    "#         print(\"No new play\")\n",
    "#         game_data = scoreboard(todays_date.year, todays_date.month, todays_date.day, 'Cubs', 'Cubs')\n",
    "#         game_filter = f\"{todays_date.year}_{todays_date.month:02d}_{todays_date.day}_\"\n",
    "#         game_data2 = next(v for k,v in game_data.items() if game_filter in k)\n",
    "#         sleep(120)\n",
    "#     else:\n",
    "#         print(f\"{text_info} Score is now {team1} {score} - {team2} {score2}\")\n",
    "#         api.update_status(f\"{text_info} Score is now {team1} {score} - {team2} {score2}\")\n",
    "#         scoring_play_ls.append(score_paly_txt)\n",
    "#         team1_score_ls.append(score)\n",
    "#         team2_score_ls.append(score2)\n",
    "#         game_data = scoreboard(todays_date.year, todays_date.month, todays_date.day, 'Cubs', 'Cubs')\n",
    "#         game_filter = f\"{todays_date.year}_{todays_date.month:02d}_{todays_date.day}_\"\n",
    "#         game_data2 = next(v for k,v in game_data.items() if game_filter in k)\n",
    "#         sleep(120)"
   ]
  },
  {
   "cell_type": "code",
   "execution_count": null,
   "metadata": {},
   "outputs": [],
   "source": []
  }
 ],
 "metadata": {
  "kernelspec": {
   "display_name": "Python 3",
   "language": "python",
   "name": "python3"
  },
  "language_info": {
   "codemirror_mode": {
    "name": "ipython",
    "version": 3
   },
   "file_extension": ".py",
   "mimetype": "text/x-python",
   "name": "python",
   "nbconvert_exporter": "python",
   "pygments_lexer": "ipython3",
   "version": "3.8.5"
  }
 },
 "nbformat": 4,
 "nbformat_minor": 4
}
